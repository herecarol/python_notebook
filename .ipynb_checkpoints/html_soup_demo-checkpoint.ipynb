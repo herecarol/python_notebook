{
 "cells": [
  {
   "cell_type": "markdown",
   "metadata": {},
   "source": [
    "https://blog.csdn.net/love666666shen/article/details/77512191 \n",
    "\n",
    "我们在写 CSS 时，标签名不加任何修饰，***类名（class=\"className\"引号内即为类名）前加点，id名（id=\"idName\"引号前即为id名）前加 #***，在这里我们也可以利用类似的方法来筛选元素，用到的方法是 soup.select()，返回类型是 list"
   ]
  },
  {
   "cell_type": "code",
   "execution_count": 17,
   "metadata": {},
   "outputs": [],
   "source": [
    "import requests\n",
    "import urllib.request\n",
    "from bs4 import BeautifulSoup\n",
    "\n",
    "fid = open('html_demo.html', 'rb')\n",
    "demo_soup = BeautifulSoup(fid, 'html.parser')\n"
   ]
  },
  {
   "cell_type": "markdown",
   "metadata": {},
   "source": [
    "(1) 通过标签名查找"
   ]
  },
  {
   "cell_type": "code",
   "execution_count": null,
   "metadata": {},
   "outputs": [],
   "source": [
    "print(demo_soup.select('title'))"
   ]
  },
  {
   "cell_type": "code",
   "execution_count": 5,
   "metadata": {},
   "outputs": [
    {
     "name": "stdout",
     "output_type": "stream",
     "text": [
      "[<a class=\"sister\" href=\"http://example.com/elsie\" id=\"link1\"><!-- Elsie --></a>, <a class=\"sister\" href=\"http://example.com/lacie\" id=\"link2\">Lacie</a>, <a class=\"sister\" href=\"http://example.com/tillie\" id=\"link3\">Tillie</a>]\n"
     ]
    }
   ],
   "source": [
    "print(demo_soup.select('a'))"
   ]
  },
  {
   "cell_type": "code",
   "execution_count": 7,
   "metadata": {},
   "outputs": [
    {
     "name": "stdout",
     "output_type": "stream",
     "text": [
      "[<b>The Dormouse's story</b>]\n"
     ]
    }
   ],
   "source": [
    "print(demo_soup.select('b'))"
   ]
  },
  {
   "cell_type": "markdown",
   "metadata": {},
   "source": [
    "(2) 通过类名查找  \n",
    "<class = \"className\"  \n",
    "引号内为类名，类名前加点"
   ]
  },
  {
   "cell_type": "code",
   "execution_count": 13,
   "metadata": {},
   "outputs": [
    {
     "name": "stdout",
     "output_type": "stream",
     "text": [
      "<a class=\"sister\" href=\"http://example.com/elsie\" id=\"link1\"><!-- Elsie --></a>\n",
      "<a class=\"sister\" href=\"http://example.com/lacie\" id=\"link2\">Lacie</a>\n",
      "<a class=\"sister\" href=\"http://example.com/tillie\" id=\"link3\">Tillie</a>\n"
     ]
    }
   ],
   "source": [
    "print(demo_soup.select('.sister')[0])\n",
    "print(demo_soup.select('.sister')[1])\n",
    "print(demo_soup.select('.sister')[2])\n",
    "# print(demo_soup.select('.sister')[3])"
   ]
  },
  {
   "cell_type": "markdown",
   "metadata": {},
   "source": [
    "(3) 通过id名查找  \n",
    "id = \"idName\"  \n",
    "引号内为id名，id名前加#"
   ]
  },
  {
   "cell_type": "code",
   "execution_count": 14,
   "metadata": {},
   "outputs": [
    {
     "name": "stdout",
     "output_type": "stream",
     "text": [
      "[<a class=\"sister\" href=\"http://example.com/elsie\" id=\"link1\"><!-- Elsie --></a>]\n"
     ]
    }
   ],
   "source": [
    "print(demo_soup.select('#link1'))"
   ]
  },
  {
   "cell_type": "markdown",
   "metadata": {},
   "source": [
    "（4）组合查找\n",
    "\n",
    "组合查找即和写 class 文件时，标签名与类名、id名进行的组合原理是一样的，例如查找 p 标签中，id 等于 link1的内容，二者需要用空格分开"
   ]
  },
  {
   "cell_type": "code",
   "execution_count": 15,
   "metadata": {},
   "outputs": [
    {
     "name": "stdout",
     "output_type": "stream",
     "text": [
      "[<a class=\"sister\" href=\"http://example.com/elsie\" id=\"link1\"><!-- Elsie --></a>]\n"
     ]
    }
   ],
   "source": [
    "print(demo_soup.select('p #link1'))"
   ]
  },
  {
   "cell_type": "code",
   "execution_count": 16,
   "metadata": {},
   "outputs": [
    {
     "name": "stdout",
     "output_type": "stream",
     "text": [
      "[<title>The Dormouse's story</title>]\n"
     ]
    }
   ],
   "source": [
    "# 直接子标签查找\n",
    "print(demo_soup.select('head > title'))"
   ]
  },
  {
   "cell_type": "markdown",
   "metadata": {},
   "source": [
    "(5) 属性查找  \n",
    "查找时还可以加入属性元素，属性需要用中括号括起来，注意属性和标签属于同一节点，所以中间不能加空格，否则会无法匹配到。"
   ]
  },
  {
   "cell_type": "code",
   "execution_count": 18,
   "metadata": {},
   "outputs": [
    {
     "name": "stdout",
     "output_type": "stream",
     "text": [
      "[<a class=\"sister\" href=\"http://example.com/elsie\" id=\"link1\"><!-- Elsie --></a>]\n"
     ]
    }
   ],
   "source": [
    "print(demo_soup.select('a[href=\"http://example.com/elsie\"]'))"
   ]
  },
  {
   "cell_type": "markdown",
   "metadata": {},
   "source": [
    "同样，属性仍然可以与上述查找方式组合，不在同一节点的空格隔开，同一节点的不加空格"
   ]
  },
  {
   "cell_type": "code",
   "execution_count": 19,
   "metadata": {},
   "outputs": [
    {
     "name": "stdout",
     "output_type": "stream",
     "text": [
      "[<a class=\"sister\" href=\"http://example.com/elsie\" id=\"link1\"><!-- Elsie --></a>]\n"
     ]
    }
   ],
   "source": [
    "print(demo_soup.select('p a[href=\"http://example.com/elsie\"]'))"
   ]
  },
  {
   "cell_type": "markdown",
   "metadata": {},
   "source": [
    "## 现在我们需要选取搜狗主页中导航栏中导向“知乎”的链接。 "
   ]
  },
  {
   "cell_type": "code",
   "execution_count": 24,
   "metadata": {},
   "outputs": [
    {
     "name": "stdout",
     "output_type": "stream",
     "text": [
      "[<a href=\"http://zhihu.sogou.com/\" id=\"zhihu\" onclick=\"st(this,'40051200','zhihu')\" uigs-id=\"nav_zhihu\">知乎</a>]\n"
     ]
    }
   ],
   "source": [
    "from bs4 import BeautifulSoup\n",
    "import requests\n",
    "import urllib.request\n",
    "\n",
    "header = {\"User-Agent\":\"Mozilla/5.0 (Windows NT 10.0; WOW64) AppleWebKit/537.36 (KHTML, like Gecko) Chrome/66.0.3359.181 Safari/537.36\"}\n",
    "resp = requests.get('http://www.sogou.com', headers = header)\n",
    "soup = BeautifulSoup(resp.text, 'html.parser')\n",
    "print(soup.select('.top-nav #zhihu'))"
   ]
  },
  {
   "cell_type": "code",
   "execution_count": 25,
   "metadata": {},
   "outputs": [
    {
     "name": "stdout",
     "output_type": "stream",
     "text": [
      "result len is:  11\n",
      "<li><a href=\"http://news.sogou.com\" id=\"news\" onclick=\"st(this,'40030300','news')\" uigs-id=\"nav_news\">新闻</a></li>\n",
      "<li class=\"cur\"><span>网页</span></li>\n",
      "<li><a href=\"http://weixin.sogou.com/\" id=\"weixinch\" onclick=\"st(this,'73141200','weixin')\" uigs-id=\"nav_weixin\">微信</a></li>\n",
      "<li><a href=\"http://zhihu.sogou.com/\" id=\"zhihu\" onclick=\"st(this,'40051200','zhihu')\" uigs-id=\"nav_zhihu\">知乎</a></li>\n",
      "<li><a href=\"http://pic.sogou.com\" id=\"pic\" onclick=\"st(this,'40030500','pic')\" uigs-id=\"nav_pic\">图片</a></li>\n",
      "<li><a href=\"http://v.sogou.com/\" id=\"video\" onclick=\"st(this,'40030600','video')\" uigs-id=\"nav_v\">视频</a></li>\n",
      "<li><a href=\"http://mingyi.sogou.com?fr=common_index_nav\" id=\"mingyi\" onclick=\"st(this,'','myingyi')\" uigs-id=\"nav_mingyi\">明医</a></li>\n",
      "<li><a href=\"http://english.sogou.com?fr=common_index_nav\" id=\"overseas\" onclick=\"st(this,'','overseas')\" uigs-id=\"nav_overseas\">英文</a></li>\n",
      "<li><a href=\"https://wenwen.sogou.com/?ch=websearch\" id=\"index_more_wenwen\" onclick=\"st(this,'web2ww','wenwen')\" uigs-id=\"nav_wenwen\">问问</a></li>\n",
      "<li><a href=\"http://scholar.sogou.com?fr=common_index_nav\" id=\"scholar\" onclick=\"st(this,'','scholar')\" uigs-id=\"nav_scholar\">学术</a></li>\n",
      "<li class=\"show-more\">\n",
      "<a href=\"javascript:void(0);\" id=\"more-product\">更多<i class=\"m-arr\"></i></a>\n",
      "<div class=\"pos-more\" id=\"products-box\" style=\"top: 40px;\">\n",
      "<span class=\"ico-san\"></span>\n",
      "<a href=\"http://map.sogou.com\" id=\"map\" onclick=\"st(this,'40031000')\" uigs-id=\"nav_map\">地图</a>\n",
      "<a href=\"http://gouwu.sogou.com/\" id=\"index_more_gouwu\" onclick=\"st(this,'40031500')\" uigs-id=\"nav_gouwu\">购物</a>\n",
      "<a href=\"http://baike.sogou.com/Home.v\" id=\"index_more_baike\" onclick=\"st(this,'40051203')\" uigs-id=\"nav_baike\">百科</a>\n",
      "<a href=\"http://zhishi.sogou.com\" id=\"index_more_zhishi\" onclick=\"st(this)\" uigs-id=\"nav_zhishi\">知识</a>\n",
      "<a href=\"http://as.sogou.com/\" id=\"index_more_appli\" onclick=\"st(this,'40051205')\" uigs-id=\"nav_app\">应用</a>\n",
      "<a href=\"http://fanyi.sogou.com?fr=common_index_nav_pc\" id=\"index_more_fanyi\" onclick=\"st(this,'40051205','fanyi')\" uigs-id=\"nav_fanyi\">翻译</a>\n",
      "<a href=\"http://index.sogou.com\" id=\"index_more_index\" uigs-id=\"nav_index\">指数</a>\n",
      "<span class=\"all\"><a href=\"http://www.sogou.com/docs/more.htm?v=1\" onclick=\"st(this,'40051206')\" target=\"_blank\" uigs-id=\"nav_all\">全部</a></span>\n",
      "</div>\n",
      "</li>\n"
     ]
    }
   ],
   "source": [
    "li_tag = soup.select('.top-nav ul li')\n",
    "\n",
    "print('result len is: ', len(li_tag))\n",
    "for tag in li_tag:\n",
    "    print(tag)"
   ]
  },
  {
   "cell_type": "markdown",
   "metadata": {},
   "source": [
    "### 过滤“网页”：没有链接到其他地址的项"
   ]
  },
  {
   "cell_type": "code",
   "execution_count": 35,
   "metadata": {},
   "outputs": [
    {
     "name": "stdout",
     "output_type": "stream",
     "text": [
      "<li><a href=\"http://news.sogou.com\" id=\"news\" onclick=\"st(this,'40030300','news')\" uigs-id=\"nav_news\">新闻</a></li>\n",
      "<li><a href=\"http://weixin.sogou.com/\" id=\"weixinch\" onclick=\"st(this,'73141200','weixin')\" uigs-id=\"nav_weixin\">微信</a></li>\n",
      "<li><a href=\"http://zhihu.sogou.com/\" id=\"zhihu\" onclick=\"st(this,'40051200','zhihu')\" uigs-id=\"nav_zhihu\">知乎</a></li>\n",
      "<li><a href=\"http://pic.sogou.com\" id=\"pic\" onclick=\"st(this,'40030500','pic')\" uigs-id=\"nav_pic\">图片</a></li>\n",
      "<li><a href=\"http://v.sogou.com/\" id=\"video\" onclick=\"st(this,'40030600','video')\" uigs-id=\"nav_v\">视频</a></li>\n",
      "<li><a href=\"http://mingyi.sogou.com?fr=common_index_nav\" id=\"mingyi\" onclick=\"st(this,'','myingyi')\" uigs-id=\"nav_mingyi\">明医</a></li>\n",
      "<li><a href=\"http://english.sogou.com?fr=common_index_nav\" id=\"overseas\" onclick=\"st(this,'','overseas')\" uigs-id=\"nav_overseas\">英文</a></li>\n",
      "<li><a href=\"https://wenwen.sogou.com/?ch=websearch\" id=\"index_more_wenwen\" onclick=\"st(this,'web2ww','wenwen')\" uigs-id=\"nav_wenwen\">问问</a></li>\n",
      "<li><a href=\"http://scholar.sogou.com?fr=common_index_nav\" id=\"scholar\" onclick=\"st(this,'','scholar')\" uigs-id=\"nav_scholar\">学术</a></li>\n"
     ]
    }
   ],
   "source": [
    "def hasHttpLink(tag):\n",
    "    return tag.a is not None and tag.a.get('href').startswith(\"http\")\n",
    "\n",
    "for tag in filter(hasHttpLink, li_tag):\n",
    "    print(tag)\n",
    "#     print(tag.a)\n",
    "#     print(tag.a.get('uigs-id'))"
   ]
  }
 ],
 "metadata": {
  "kernelspec": {
   "display_name": "Python 3",
   "language": "python",
   "name": "python3"
  },
  "language_info": {
   "codemirror_mode": {
    "name": "ipython",
    "version": 3
   },
   "file_extension": ".py",
   "mimetype": "text/x-python",
   "name": "python",
   "nbconvert_exporter": "python",
   "pygments_lexer": "ipython3",
   "version": "3.6.4"
  }
 },
 "nbformat": 4,
 "nbformat_minor": 2
}
