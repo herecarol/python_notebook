{
 "cells": [
  {
   "cell_type": "code",
   "execution_count": 2,
   "metadata": {},
   "outputs": [],
   "source": [
    "import requests\n",
    "import urllib.request\n",
    "import os\n",
    "import time\n",
    "from bs4 import BeautifulSoup\n",
    "\n",
    "header = {'User-Agent':'Mozilla/5.0 (Windows NT 6.1; Win64; x64) AppleWebKit/537.36 (KHTML, like Gecko) Chrome/62.0.3202.62 Safari/537.36'}\n",
    "url = ['http://sh.58.com/zufang/pn{}/?ClickID=2'.format(number) for number in range(6,51)]\n",
    "adminCout = 6\n"
   ]
  },
  {
   "cell_type": "code",
   "execution_count": 3,
   "metadata": {},
   "outputs": [],
   "source": [
    "res = requests.get(url[0], headers=header)"
   ]
  },
  {
   "cell_type": "code",
   "execution_count": 4,
   "metadata": {},
   "outputs": [],
   "source": [
    "soup = BeautifulSoup(res.text, 'html.parser')\n",
    "soup\n"
   ]
  },
  {
   "cell_type": "code",
   "execution_count": 13,
   "metadata": {},
   "outputs": [
    {
     "name": "stdout",
     "output_type": "stream",
     "text": [
      "<img lazy_src=\"http://pic6.58cdn.com.cn/anjuke_58/5f44401e84bcef4f8e12f3b5951d5d91?w=294&amp;h=220&amp;crop=1\" src=\"http://img.58cdn.com.cn/ui9/house/list/lazy_pic.png\"/>\n",
      "<img lazy_src=\"http://pic7.58cdn.com.cn/anjuke_58/03c6feb19d1d699c00150c7772cd198b?w=294&amp;h=220&amp;crop=1\" src=\"http://img.58cdn.com.cn/ui9/house/list/lazy_pic.png\"/>\n",
      "http://pic7.58cdn.com.cn/anjuke_58/03c6feb19d1d699c00150c7772cd198b?w=294&h=220&crop=1\n",
      "http://pic7.58cdn.com.cn/anjuke_58/03c6feb19d1d699c00150c7772cd198b?w=294&h=220&crop=1\n"
     ]
    }
   ],
   "source": [
    "arryImg = soup.select('.img_list img')\n",
    "print(arryImg[0])\n",
    "print(arryImg[1])\n",
    "print(arryImg[1].get('lazy_src'))\n",
    "print(arryImg[1]['lazy_src'])"
   ]
  }
 ],
 "metadata": {
  "kernelspec": {
   "display_name": "Python 3",
   "language": "python",
   "name": "python3"
  },
  "language_info": {
   "codemirror_mode": {
    "name": "ipython",
    "version": 3
   },
   "file_extension": ".py",
   "mimetype": "text/x-python",
   "name": "python",
   "nbconvert_exporter": "python",
   "pygments_lexer": "ipython3",
   "version": "3.6.4"
  }
 },
 "nbformat": 4,
 "nbformat_minor": 2
}
